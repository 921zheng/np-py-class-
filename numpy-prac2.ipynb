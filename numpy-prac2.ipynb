{
  "nbformat": 4,
  "nbformat_minor": 0,
  "metadata": {
    "colab": {
      "provenance": []
    },
    "kernelspec": {
      "name": "python3",
      "display_name": "Python 3"
    },
    "language_info": {
      "name": "python"
    }
  },
  "cells": [
    {
      "cell_type": "code",
      "execution_count": 1,
      "metadata": {
        "id": "X3_QqbkZLuDv"
      },
      "outputs": [],
      "source": [
        "import numpy as np\n"
      ]
    },
    {
      "cell_type": "code",
      "source": [
        "import random"
      ],
      "metadata": {
        "id": "ewFMwjBkN7du"
      },
      "execution_count": 24,
      "outputs": []
    },
    {
      "cell_type": "code",
      "source": [
        "a1=np.array([1,2,3])\n",
        "a1"
      ],
      "metadata": {
        "colab": {
          "base_uri": "https://localhost:8080/"
        },
        "id": "BxOrkJVSL1xH",
        "outputId": "e5c8e49e-5c7a-4157-fcbb-47733e024ed6"
      },
      "execution_count": 2,
      "outputs": [
        {
          "output_type": "execute_result",
          "data": {
            "text/plain": [
              "array([1, 2, 3])"
            ]
          },
          "metadata": {},
          "execution_count": 2
        }
      ]
    },
    {
      "cell_type": "code",
      "source": [
        "a2=np.array([[1,3,5],[3,6,8]])\n",
        "a2"
      ],
      "metadata": {
        "colab": {
          "base_uri": "https://localhost:8080/"
        },
        "id": "FzTLEjsxL7iP",
        "outputId": "71e4a1bd-849b-4545-b532-c4028556b345"
      },
      "execution_count": 3,
      "outputs": [
        {
          "output_type": "execute_result",
          "data": {
            "text/plain": [
              "array([[1, 3, 5],\n",
              "       [3, 6, 8]])"
            ]
          },
          "metadata": {},
          "execution_count": 3
        }
      ]
    },
    {
      "cell_type": "code",
      "source": [
        "a2_std=np.std(a2)\n",
        "a2_std"
      ],
      "metadata": {
        "colab": {
          "base_uri": "https://localhost:8080/"
        },
        "id": "0cRYKNTyMDxe",
        "outputId": "649653a3-0347-4833-8793-2b54819ee3e6"
      },
      "execution_count": 7,
      "outputs": [
        {
          "output_type": "execute_result",
          "data": {
            "text/plain": [
              "2.2852182001336816"
            ]
          },
          "metadata": {},
          "execution_count": 7
        }
      ]
    },
    {
      "cell_type": "code",
      "source": [
        "a2_var=np.var(a2)\n",
        "a2_var"
      ],
      "metadata": {
        "colab": {
          "base_uri": "https://localhost:8080/"
        },
        "id": "L35qo935MH0i",
        "outputId": "1ad9f99a-6e34-4c0c-943b-07ae38a534f9"
      },
      "execution_count": 8,
      "outputs": [
        {
          "output_type": "execute_result",
          "data": {
            "text/plain": [
              "5.222222222222222"
            ]
          },
          "metadata": {},
          "execution_count": 8
        }
      ]
    },
    {
      "cell_type": "code",
      "source": [
        "import matplotlib.pyplot as plt"
      ],
      "metadata": {
        "id": "6yVMIZyRMZCs"
      },
      "execution_count": 11,
      "outputs": []
    },
    {
      "cell_type": "code",
      "source": [
        "plt.hist(a2_var)"
      ],
      "metadata": {
        "colab": {
          "base_uri": "https://localhost:8080/",
          "height": 517
        },
        "id": "2nPqhiAPMylU",
        "outputId": "09e12f32-ae98-4d79-b062-344d853b48ba"
      },
      "execution_count": 14,
      "outputs": [
        {
          "output_type": "execute_result",
          "data": {
            "text/plain": [
              "(array([0., 0., 0., 0., 0., 1., 0., 0., 0., 0.]),\n",
              " array([4.72222222, 4.82222222, 4.92222222, 5.02222222, 5.12222222,\n",
              "        5.22222222, 5.32222222, 5.42222222, 5.52222222, 5.62222222,\n",
              "        5.72222222]),\n",
              " <BarContainer object of 10 artists>)"
            ]
          },
          "metadata": {},
          "execution_count": 14
        },
        {
          "output_type": "display_data",
          "data": {
            "text/plain": [
              "<Figure size 640x480 with 1 Axes>"
            ],
            "image/png": "[encoded data removed]"
          },
          "metadata": {}
        }
      ]
    },
    {
      "cell_type": "markdown",
      "source": [
        "### shape, reshape"
      ],
      "metadata": {
        "id": "pmxJLg4BNECH"
      }
    },
    {
      "cell_type": "code",
      "source": [
        "a2\n"
      ],
      "metadata": {
        "colab": {
          "base_uri": "https://localhost:8080/"
        },
        "id": "95Tnt2ZgNHuG",
        "outputId": "6edeb808-f72a-402f-8ae5-5e6b5c364cda"
      },
      "execution_count": 15,
      "outputs": [
        {
          "output_type": "execute_result",
          "data": {
            "text/plain": [
              "array([[1, 3, 5],\n",
              "       [3, 6, 8]])"
            ]
          },
          "metadata": {},
          "execution_count": 15
        }
      ]
    },
    {
      "cell_type": "code",
      "source": [
        "a2.shape"
      ],
      "metadata": {
        "colab": {
          "base_uri": "https://localhost:8080/"
        },
        "id": "m7am4GabNKri",
        "outputId": "b02c7e2a-1be7-445d-aff7-62572e9669ef"
      },
      "execution_count": 16,
      "outputs": [
        {
          "output_type": "execute_result",
          "data": {
            "text/plain": [
              "(2, 3)"
            ]
          },
          "metadata": {},
          "execution_count": 16
        }
      ]
    },
    {
      "cell_type": "code",
      "source": [
        "a2_reshape=a2.reshape(2,3,1)\n",
        "a2_reshape"
      ],
      "metadata": {
        "colab": {
          "base_uri": "https://localhost:8080/"
        },
        "id": "Tw9YxG-MNN15",
        "outputId": "069666e1-27da-441a-ec81-e903415407b7"
      },
      "execution_count": 19,
      "outputs": [
        {
          "output_type": "execute_result",
          "data": {
            "text/plain": [
              "array([[[1],\n",
              "        [3],\n",
              "        [5]],\n",
              "\n",
              "       [[3],\n",
              "        [6],\n",
              "        [8]]])"
            ]
          },
          "metadata": {},
          "execution_count": 19
        }
      ]
    },
    {
      "cell_type": "code",
      "source": [
        "a3=np.random.randint(0,10,size=(2,3,2))\n",
        "a3"
      ],
      "metadata": {
        "colab": {
          "base_uri": "https://localhost:8080/"
        },
        "id": "Xk_YZQ1QNU5F",
        "outputId": "04a9282a-1876-426b-f4cd-69347df85ef3"
      },
      "execution_count": 27,
      "outputs": [
        {
          "output_type": "execute_result",
          "data": {
            "text/plain": [
              "array([[[5, 3],\n",
              "        [1, 5],\n",
              "        [0, 1]],\n",
              "\n",
              "       [[1, 4],\n",
              "        [6, 7],\n",
              "        [7, 8]]])"
            ]
          },
          "metadata": {},
          "execution_count": 27
        }
      ]
    },
    {
      "cell_type": "code",
      "source": [
        "a3*a2_reshape"
      ],
      "metadata": {
        "colab": {
          "base_uri": "https://localhost:8080/"
        },
        "id": "MWi7rskKOLvY",
        "outputId": "a2ab6b8b-ecf9-4921-b9ee-66db223210f2"
      },
      "execution_count": 29,
      "outputs": [
        {
          "output_type": "execute_result",
          "data": {
            "text/plain": [
              "array([[[ 5,  3],\n",
              "        [ 3, 15],\n",
              "        [ 0,  5]],\n",
              "\n",
              "       [[ 3, 12],\n",
              "        [36, 42],\n",
              "        [56, 64]]])"
            ]
          },
          "metadata": {},
          "execution_count": 29
        }
      ]
    },
    {
      "cell_type": "markdown",
      "source": [
        "### .T-Transpose"
      ],
      "metadata": {
        "id": "gEn6vzkaOYNI"
      }
    },
    {
      "cell_type": "code",
      "source": [
        "a2.shape"
      ],
      "metadata": {
        "colab": {
          "base_uri": "https://localhost:8080/"
        },
        "id": "b9gHRX53OeUy",
        "outputId": "facba4ee-a2b6-4496-d111-8f57f83d3b24"
      },
      "execution_count": 31,
      "outputs": [
        {
          "output_type": "execute_result",
          "data": {
            "text/plain": [
              "(2, 3)"
            ]
          },
          "metadata": {},
          "execution_count": 31
        }
      ]
    },
    {
      "cell_type": "code",
      "source": [
        "a2"
      ],
      "metadata": {
        "colab": {
          "base_uri": "https://localhost:8080/"
        },
        "id": "iZ6RnjPxOoQn",
        "outputId": "19474bd0-d03c-4fb1-b080-405af7e3c511"
      },
      "execution_count": 32,
      "outputs": [
        {
          "output_type": "execute_result",
          "data": {
            "text/plain": [
              "array([[1, 3, 5],\n",
              "       [3, 6, 8]])"
            ]
          },
          "metadata": {},
          "execution_count": 32
        }
      ]
    },
    {
      "cell_type": "code",
      "source": [
        "a2.T"
      ],
      "metadata": {
        "colab": {
          "base_uri": "https://localhost:8080/"
        },
        "id": "RZxuETU6OpkI",
        "outputId": "bd316cc1-2017-4422-b2fa-f533ced7dd68"
      },
      "execution_count": 33,
      "outputs": [
        {
          "output_type": "execute_result",
          "data": {
            "text/plain": [
              "array([[1, 3],\n",
              "       [3, 6],\n",
              "       [5, 8]])"
            ]
          },
          "metadata": {},
          "execution_count": 33
        }
      ]
    },
    {
      "cell_type": "code",
      "source": [
        "a2.T.shape"
      ],
      "metadata": {
        "colab": {
          "base_uri": "https://localhost:8080/"
        },
        "id": "ifKLlG53Osjj",
        "outputId": "5acaa3d5-b7a4-4718-d2df-84660406e260"
      },
      "execution_count": 34,
      "outputs": [
        {
          "output_type": "execute_result",
          "data": {
            "text/plain": [
              "(3, 2)"
            ]
          },
          "metadata": {},
          "execution_count": 34
        }
      ]
    },
    {
      "cell_type": "code",
      "source": [
        "a3.shape"
      ],
      "metadata": {
        "colab": {
          "base_uri": "https://localhost:8080/"
        },
        "id": "g5auYTvQO7ei",
        "outputId": "53e10db9-2c92-43dc-c84b-56d4999dcbd6"
      },
      "execution_count": 37,
      "outputs": [
        {
          "output_type": "execute_result",
          "data": {
            "text/plain": [
              "(2, 3, 2)"
            ]
          },
          "metadata": {},
          "execution_count": 37
        }
      ]
    },
    {
      "cell_type": "code",
      "source": [
        "a3"
      ],
      "metadata": {
        "colab": {
          "base_uri": "https://localhost:8080/"
        },
        "id": "xmOurYnFPCJb",
        "outputId": "1667118c-16a5-4e2d-8038-422852708b87"
      },
      "execution_count": 40,
      "outputs": [
        {
          "output_type": "execute_result",
          "data": {
            "text/plain": [
              "array([[[5, 3],\n",
              "        [1, 5],\n",
              "        [0, 1]],\n",
              "\n",
              "       [[1, 4],\n",
              "        [6, 7],\n",
              "        [7, 8]]])"
            ]
          },
          "metadata": {},
          "execution_count": 40
        }
      ]
    },
    {
      "cell_type": "code",
      "source": [
        "a3.T.shape"
      ],
      "metadata": {
        "colab": {
          "base_uri": "https://localhost:8080/"
        },
        "id": "YX5wcTJ7O0z4",
        "outputId": "3f859b5d-199c-4328-8c02-85551ebd9675"
      },
      "execution_count": 39,
      "outputs": [
        {
          "output_type": "execute_result",
          "data": {
            "text/plain": [
              "(2, 3, 2)"
            ]
          },
          "metadata": {},
          "execution_count": 39
        }
      ]
    },
    {
      "cell_type": "code",
      "source": [
        "a3.T"
      ],
      "metadata": {
        "colab": {
          "base_uri": "https://localhost:8080/"
        },
        "id": "2NqKLjg8O63K",
        "outputId": "4f302fd8-38b5-40d7-b7ac-14a177118c6c"
      },
      "execution_count": 41,
      "outputs": [
        {
          "output_type": "execute_result",
          "data": {
            "text/plain": [
              "array([[[5, 1],\n",
              "        [1, 6],\n",
              "        [0, 7]],\n",
              "\n",
              "       [[3, 4],\n",
              "        [5, 7],\n",
              "        [1, 8]]])"
            ]
          },
          "metadata": {},
          "execution_count": 41
        }
      ]
    },
    {
      "cell_type": "markdown",
      "source": [
        "### Dot Product"
      ],
      "metadata": {
        "id": "gaBA3qs0PXHL"
      }
    },
    {
      "cell_type": "code",
      "source": [
        "a4=np.random.randint(10,size=(3,5))\n",
        "a4"
      ],
      "metadata": {
        "colab": {
          "base_uri": "https://localhost:8080/"
        },
        "id": "n80K6Uy6PTwv",
        "outputId": "c9bb1811-c85a-4230-ad34-8656a8104384"
      },
      "execution_count": 43,
      "outputs": [
        {
          "output_type": "execute_result",
          "data": {
            "text/plain": [
              "array([[8, 7, 5, 5, 0],\n",
              "       [5, 9, 0, 1, 7],\n",
              "       [7, 5, 1, 0, 5]])"
            ]
          },
          "metadata": {},
          "execution_count": 43
        }
      ]
    },
    {
      "cell_type": "code",
      "source": [
        "a5=np.random.randint(10,size=(5,3))\n",
        "a5"
      ],
      "metadata": {
        "colab": {
          "base_uri": "https://localhost:8080/"
        },
        "id": "rxXGnC1uPmi0",
        "outputId": "45de04d8-b6ad-43ad-c6bb-247482d3ece3"
      },
      "execution_count": 44,
      "outputs": [
        {
          "output_type": "execute_result",
          "data": {
            "text/plain": [
              "array([[3, 5, 0],\n",
              "       [8, 2, 8],\n",
              "       [5, 8, 1],\n",
              "       [3, 1, 0],\n",
              "       [1, 1, 5]])"
            ]
          },
          "metadata": {},
          "execution_count": 44
        }
      ]
    },
    {
      "cell_type": "code",
      "source": [
        "a6=np.dot(a4,a5)\n",
        "a6"
      ],
      "metadata": {
        "colab": {
          "base_uri": "https://localhost:8080/"
        },
        "id": "injF4GI2PuFL",
        "outputId": "09f82f57-498e-47cd-8e4c-0d41f6cc7dea"
      },
      "execution_count": 46,
      "outputs": [
        {
          "output_type": "execute_result",
          "data": {
            "text/plain": [
              "array([[120,  99,  61],\n",
              "       [ 97,  51, 107],\n",
              "       [ 71,  58,  66]])"
            ]
          },
          "metadata": {},
          "execution_count": 46
        }
      ]
    },
    {
      "cell_type": "markdown",
      "source": [
        "### Comparison"
      ],
      "metadata": {
        "id": "4DkeajzmP90B"
      }
    },
    {
      "cell_type": "code",
      "source": [
        "bool_array=a4>a5.T\n",
        "bool_array"
      ],
      "metadata": {
        "colab": {
          "base_uri": "https://localhost:8080/"
        },
        "id": "_HpTkeAVQAxt",
        "outputId": "5aa81db0-22b3-4755-b9f1-a387b84b7d7e"
      },
      "execution_count": 48,
      "outputs": [
        {
          "output_type": "execute_result",
          "data": {
            "text/plain": [
              "array([[ True, False, False,  True, False],\n",
              "       [False,  True, False, False,  True],\n",
              "       [ True, False, False, False, False]])"
            ]
          },
          "metadata": {},
          "execution_count": 48
        }
      ]
    },
    {
      "cell_type": "code",
      "source": [
        "bool_array=a4!=a5.T\n",
        "bool_array"
      ],
      "metadata": {
        "colab": {
          "base_uri": "https://localhost:8080/"
        },
        "id": "npvPO96oQKqr",
        "outputId": "52c60a24-5d1a-4dab-92d5-1d52a3ac927b"
      },
      "execution_count": 49,
      "outputs": [
        {
          "output_type": "execute_result",
          "data": {
            "text/plain": [
              "array([[ True,  True, False,  True,  True],\n",
              "       [False,  True,  True, False,  True],\n",
              "       [ True,  True, False, False, False]])"
            ]
          },
          "metadata": {},
          "execution_count": 49
        }
      ]
    },
    {
      "cell_type": "markdown",
      "source": [
        "###sort"
      ],
      "metadata": {
        "id": "9yjhNQ6LQRyg"
      }
    },
    {
      "cell_type": "code",
      "source": [
        "a4\n"
      ],
      "metadata": {
        "colab": {
          "base_uri": "https://localhost:8080/"
        },
        "id": "Ae6CJjvDQTCK",
        "outputId": "8911a9ce-7120-45a3-b3d8-da8d92a82807"
      },
      "execution_count": 50,
      "outputs": [
        {
          "output_type": "execute_result",
          "data": {
            "text/plain": [
              "array([[8, 7, 5, 5, 0],\n",
              "       [5, 9, 0, 1, 7],\n",
              "       [7, 5, 1, 0, 5]])"
            ]
          },
          "metadata": {},
          "execution_count": 50
        }
      ]
    },
    {
      "cell_type": "code",
      "source": [
        "np.sort(a4)"
      ],
      "metadata": {
        "colab": {
          "base_uri": "https://localhost:8080/"
        },
        "id": "ecr3QgdjQVBV",
        "outputId": "877ee447-393d-4612-a4f2-07ce96dd973e"
      },
      "execution_count": 51,
      "outputs": [
        {
          "output_type": "execute_result",
          "data": {
            "text/plain": [
              "array([[0, 5, 5, 7, 8],\n",
              "       [0, 1, 5, 7, 9],\n",
              "       [0, 1, 5, 5, 7]])"
            ]
          },
          "metadata": {},
          "execution_count": 51
        }
      ]
    },
    {
      "cell_type": "code",
      "source": [
        "np.argsort(a4)"
      ],
      "metadata": {
        "colab": {
          "base_uri": "https://localhost:8080/"
        },
        "id": "gYu96mlwQb5n",
        "outputId": "6a16a5d0-0934-4cd7-d0a2-af05ce45ad28"
      },
      "execution_count": 52,
      "outputs": [
        {
          "output_type": "execute_result",
          "data": {
            "text/plain": [
              "array([[4, 2, 3, 1, 0],\n",
              "       [2, 3, 0, 4, 1],\n",
              "       [3, 2, 1, 4, 0]])"
            ]
          },
          "metadata": {},
          "execution_count": 52
        }
      ]
    },
    {
      "cell_type": "code",
      "source": [
        "np.argmin(a4)"
      ],
      "metadata": {
        "colab": {
          "base_uri": "https://localhost:8080/"
        },
        "id": "QdOmnRxDQj72",
        "outputId": "c84025ee-ddbe-4269-f50e-364520fa44e3"
      },
      "execution_count": 53,
      "outputs": [
        {
          "output_type": "execute_result",
          "data": {
            "text/plain": [
              "4"
            ]
          },
          "metadata": {},
          "execution_count": 53
        }
      ]
    },
    {
      "cell_type": "code",
      "source": [
        "np.argmax(a4)"
      ],
      "metadata": {
        "colab": {
          "base_uri": "https://localhost:8080/"
        },
        "id": "LrD4Wk2fQrT-",
        "outputId": "7f23bc52-6f61-4757-ffe1-4e3723d6caf9"
      },
      "execution_count": 54,
      "outputs": [
        {
          "output_type": "execute_result",
          "data": {
            "text/plain": [
              "6"
            ]
          },
          "metadata": {},
          "execution_count": 54
        }
      ]
    },
    {
      "cell_type": "code",
      "source": [
        "np.argmin(a1)"
      ],
      "metadata": {
        "colab": {
          "base_uri": "https://localhost:8080/"
        },
        "id": "zV1CGnv_RJsb",
        "outputId": "9b7dbe15-8db6-4666-ddd8-1f9a7fde59f2"
      },
      "execution_count": 55,
      "outputs": [
        {
          "output_type": "execute_result",
          "data": {
            "text/plain": [
              "0"
            ]
          },
          "metadata": {},
          "execution_count": 55
        }
      ]
    },
    {
      "cell_type": "code",
      "source": [
        "a4"
      ],
      "metadata": {
        "colab": {
          "base_uri": "https://localhost:8080/"
        },
        "id": "3Hs2JH3TRp2V",
        "outputId": "22e99a34-6e03-4426-8ba9-1eff0d7f123d"
      },
      "execution_count": 56,
      "outputs": [
        {
          "output_type": "execute_result",
          "data": {
            "text/plain": [
              "array([[8, 7, 5, 5, 0],\n",
              "       [5, 9, 0, 1, 7],\n",
              "       [7, 5, 1, 0, 5]])"
            ]
          },
          "metadata": {},
          "execution_count": 56
        }
      ]
    },
    {
      "cell_type": "code",
      "source": [
        "np.argmax(a4, axis=1)"
      ],
      "metadata": {
        "colab": {
          "base_uri": "https://localhost:8080/"
        },
        "id": "jjaA8D1hRrRK",
        "outputId": "1ef36336-df5e-4935-9734-8e974c967ef7"
      },
      "execution_count": 57,
      "outputs": [
        {
          "output_type": "execute_result",
          "data": {
            "text/plain": [
              "array([0, 1, 0])"
            ]
          },
          "metadata": {},
          "execution_count": 57
        }
      ]
    },
    {
      "cell_type": "code",
      "source": [
        "np.argmin(a4,axis=0)"
      ],
      "metadata": {
        "colab": {
          "base_uri": "https://localhost:8080/"
        },
        "id": "d4cVHJaLR2Vm",
        "outputId": "62489161-ea92-4d2e-833d-f290d527d9c0"
      },
      "execution_count": 59,
      "outputs": [
        {
          "output_type": "execute_result",
          "data": {
            "text/plain": [
              "array([1, 2, 1, 2, 0])"
            ]
          },
          "metadata": {},
          "execution_count": 59
        }
      ]
    }
  ]
}